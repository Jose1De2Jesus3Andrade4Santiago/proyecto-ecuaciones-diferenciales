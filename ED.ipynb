{
 "cells": [
  {
   "cell_type": "code",
   "execution_count": 133,
   "metadata": {},
   "outputs": [],
   "source": [
    "#importamos las liberias que ocuparemos\n",
    "import sympy as sp\n",
    "import tkinter as tk"
   ]
  },
  {
   "cell_type": "markdown",
   "metadata": {},
   "source": [
    "# Resolvemos la Ecuación diferencial de variables separables"
   ]
  },
  {
   "cell_type": "markdown",
   "metadata": {},
   "source": [
    "Escribimos la ecuación diferencial en términos que python pueda entender"
   ]
  },
  {
   "cell_type": "code",
   "execution_count": 134,
   "metadata": {},
   "outputs": [
    {
     "data": {
      "text/latex": [
       "$\\displaystyle \\frac{d}{d t} M{\\left(t \\right)} = k M{\\left(t \\right)}$"
      ],
      "text/plain": [
       "Eq(Derivative(M(t), t), k*M(t))"
      ]
     },
     "execution_count": 134,
     "metadata": {},
     "output_type": "execute_result"
    }
   ],
   "source": [
    "#Definimos la ecuación diferencial a Integrar\n",
    "M = sp.Function('M')\n",
    "t = sp.Symbol('t')\n",
    "k = sp.Symbol('k')\n",
    "c = sp.Symbol('c')\n",
    "C1 = sp.Symbol('C1')\n",
    "leftPart = M(t).diff(t)\n",
    "rightPart = k*(M(t))\n",
    "\n",
    "ecuacionDif = sp.Eq(leftPart, rightPart)\n",
    "ecuacionDif"
   ]
  },
  {
   "cell_type": "code",
   "execution_count": 135,
   "metadata": {},
   "outputs": [
    {
     "data": {
      "text/latex": [
       "$\\displaystyle \\frac{\\frac{d}{d t} M{\\left(t \\right)}}{M{\\left(t \\right)}} = k$"
      ],
      "text/plain": [
       "Eq(Derivative(M(t), t)/M(t), k)"
      ]
     },
     "execution_count": 135,
     "metadata": {},
     "output_type": "execute_result"
    }
   ],
   "source": [
    "#La expresamos en forma de un ED de variables separables\n",
    "leftPart = leftPart/M(t)\n",
    "rightPart = rightPart/M(t)\n",
    "ecuacionDif = sp.Eq(leftPart, rightPart)\n",
    "ecuacionDif"
   ]
  },
  {
   "cell_type": "markdown",
   "metadata": {},
   "source": [
    "Procedemos a integrar ambos lados de la ecuación diferencias respecto a la variable independiente t"
   ]
  },
  {
   "cell_type": "markdown",
   "metadata": {},
   "source": [
    "$$\\int \\frac{dM(t)}{M(t)} =\\int kdM(t)$$"
   ]
  },
  {
   "cell_type": "code",
   "execution_count": 136,
   "metadata": {},
   "outputs": [
    {
     "data": {
      "text/latex": [
       "$\\displaystyle \\log{\\left(M{\\left(t \\right)} \\right)} = c + k t$"
      ],
      "text/plain": [
       "Eq(log(M(t)), c + k*t)"
      ]
     },
     "execution_count": 136,
     "metadata": {},
     "output_type": "execute_result"
    }
   ],
   "source": [
    "#Integramos ambas partes de la ED respecto a t\n",
    "leftPart = sp.integrate(leftPart,t)\n",
    "rightPart = sp.integrate(rightPart ,t)\n",
    "rightPart = rightPart + c\n",
    "ecuacionDif = sp.Eq(leftPart, rightPart)\n",
    "ecuacionDif"
   ]
  },
  {
   "cell_type": "markdown",
   "metadata": {},
   "source": [
    "Aplicamos la función exponencia a ambos lados de la ecuación con el objetivo de quedarnos unicamente con la función $M(t)$ de lado izquierdo de la ecuación"
   ]
  },
  {
   "cell_type": "code",
   "execution_count": 137,
   "metadata": {},
   "outputs": [
    {
     "data": {
      "text/latex": [
       "$\\displaystyle M{\\left(t \\right)} = e^{c} e^{k t}$"
      ],
      "text/plain": [
       "Eq(M(t), exp(c)*exp(k*t))"
      ]
     },
     "execution_count": 137,
     "metadata": {},
     "output_type": "execute_result"
    }
   ],
   "source": [
    "#Aplicamos la función exponenecial a toda la ecuación\n",
    "leftPart = sp.exp(leftPart)\n",
    "rightPart = sp.exp(rightPart)\n",
    "ecuacionDif = sp.Eq(leftPart, sp.expand(rightPart))\n",
    "ecuacionDif"
   ]
  },
  {
   "cell_type": "markdown",
   "metadata": {},
   "source": [
    "Renombramos el término $e^{c}$ como una nueva constante c, teniendo así la función solución de nuestra ecuación diferencial"
   ]
  },
  {
   "cell_type": "markdown",
   "metadata": {},
   "source": [
    "$$M(t) = ce^{kt}$$"
   ]
  },
  {
   "cell_type": "markdown",
   "metadata": {},
   "source": [
    "# Aplicación del módelo "
   ]
  },
  {
   "cell_type": "markdown",
   "metadata": {},
   "source": [
    "Dado que nuestro módelo requiere de una constante k, es necesario deducirla de alguna manera , por lo que se deben tener datos inciales respecto al problea al que se debe tratar en cuestion"
   ]
  },
  {
   "cell_type": "code",
   "execution_count": 139,
   "metadata": {},
   "outputs": [],
   "source": [
    "#funcion para traer el valor de tiempo de la ventana\n",
    "def close_window():\n",
    "    window.destroy()"
   ]
  },
  {
   "cell_type": "markdown",
   "metadata": {},
   "source": [
    "Pedimos tres datos:\n",
    "\n",
    "    1.La cantidad del material que existe en un tiempo 0\n",
    "    \n",
    "    2.La cantidad del material original que se desintegro en un tiempo t\n",
    "    \n",
    "    3.El tiempo que dicho material tardo en desintegrarse"
   ]
  },
  {
   "cell_type": "code",
   "execution_count": 140,
   "metadata": {},
   "outputs": [],
   "source": [
    "#Pedimos la cantidad del material existente en miligramos\n",
    "while True:\n",
    "    window = tk.Tk()\n",
    "    window.geometry(\"350x150\")\n",
    "    window.title(\"hola\")\n",
    "    window.resizable(False,False)\n",
    "    text = tk.Label(window,text = \"DIGITA LA CANTIDAD DE MASA INICIAL(EN MILIGRAMOS)\")\n",
    "    text.pack(pady =50)\n",
    "\n",
    "    M0 = tk.StringVar()\n",
    "    M0_entry = tk.Entry(textvariable = M0, width = \"40\")\n",
    "    M0_entry.place(x =50,y =75)\n",
    "\n",
    "    boton = tk.Button(window,text = \"OK\",command= close_window, width = \"20\",height = \"1\")\n",
    "    boton.place(x =100 ,y =110)\n",
    "    \n",
    "    window.mainloop()\n",
    "\n",
    "    if( float(M0.get()) > 0 ):\n",
    "        break"
   ]
  },
  {
   "cell_type": "code",
   "execution_count": 141,
   "metadata": {},
   "outputs": [],
   "source": [
    "#Pedimos la cantidad del material original que se ha desintegrado en miligramos\n",
    "while True:\n",
    "    window = tk.Tk()\n",
    "    window.geometry(\"450x150\")\n",
    "    window.title(\"hola\")\n",
    "    window.resizable(False,False)\n",
    "    text = tk.Label(window,text = \"DIGITA LA CANTIDAD DE MASA ORIGINAL DESINTEGRADA (EN MILIGRAMOS)\")\n",
    "    text.pack(pady =50)\n",
    "\n",
    "    Md = tk.StringVar()\n",
    "    Md_entry = tk.Entry(textvariable = Md, width = \"40\")\n",
    "    Md_entry.place(x =100,y =75)\n",
    "\n",
    "    boton = tk.Button(window,text = \"OK\",command= close_window, width = \"20\",height = \"1\")\n",
    "    boton.place(x =150 ,y =110)\n",
    "    \n",
    "    window.mainloop()\n",
    "\n",
    "    if( float(Md.get()) > 0 ):\n",
    "        break"
   ]
  },
  {
   "cell_type": "code",
   "execution_count": 142,
   "metadata": {},
   "outputs": [],
   "source": [
    "#Pedimos el tiempo en el que la masa se ha desintegrado en años\n",
    "while True:\n",
    "    window = tk.Tk()\n",
    "    window.geometry(\"450x150\")\n",
    "    window.title(\"hola\")\n",
    "    window.resizable(False,False)\n",
    "    text = tk.Label(window,text = \"DIGITA EL TIEMPO EN EL QUE LA MASA SE DESINTEGRO (EN AÑOS)\")\n",
    "    text.pack(pady =50)\n",
    "\n",
    "    tiempo = tk.StringVar()\n",
    "    tiempo_entry = tk.Entry(textvariable = tiempo, width = \"40\")\n",
    "    tiempo_entry.place(x =100,y =75)\n",
    "\n",
    "    boton = tk.Button(window,text = \"OK\",command= close_window, width = \"20\",height = \"1\")\n",
    "    boton.place(x =150 ,y =110)\n",
    "    \n",
    "    window.mainloop()\n",
    "\n",
    "    if( float(tiempo.get()) > 0 ):\n",
    "        break"
   ]
  },
  {
   "cell_type": "code",
   "execution_count": 143,
   "metadata": {},
   "outputs": [],
   "source": [
    "tiempo = float(tiempo.get())\n",
    "masa_tiempoCero = float(M0.get())\n",
    "masa_desintegrada = float(Md.get())"
   ]
  },
  {
   "cell_type": "markdown",
   "metadata": {},
   "source": [
    "### Calculamos el valor de K para sustituirlo en nuestra ED"
   ]
  },
  {
   "cell_type": "code",
   "execution_count": 163,
   "metadata": {},
   "outputs": [
    {
     "data": {
      "text/latex": [
       "$\\displaystyle M{\\left(t \\right)} = C_{1} e^{k t}$"
      ],
      "text/plain": [
       "Eq(M(t), C1*exp(k*t))"
      ]
     },
     "execution_count": 163,
     "metadata": {},
     "output_type": "execute_result"
    }
   ],
   "source": [
    "leftPart = M(t).diff(t)\n",
    "rightPart = k*(M(t))\n",
    "\n",
    "solution = sp.dsolve(leftPart-rightPart)\n",
    "solution"
   ]
  },
  {
   "cell_type": "markdown",
   "metadata": {},
   "source": [
    "Sabemos que al tiempo cero tenemos $masa\\_tiempoCero$ y que al $tiempo$ en años la masa que se desintegró fueron $masa\\_tiempoT$ por lo que nuestra condicion inicial es $M(tiempo) = masa\\_tiempoCero-masa\\_desintegrada $"
   ]
  },
  {
   "cell_type": "code",
   "execution_count": 145,
   "metadata": {},
   "outputs": [],
   "source": [
    "masa_tiempoT = masa_tiempoCero-masa_tiempoT"
   ]
  },
  {
   "cell_type": "markdown",
   "metadata": {},
   "source": [
    "Evaluamos la función solución de la Ecuación diferencial en el $Tiempo$ y reemplazamos la masa (constante c) por la $masa\\_tiempoCero$ "
   ]
  },
  {
   "cell_type": "code",
   "execution_count": 146,
   "metadata": {},
   "outputs": [
    {
     "data": {
      "text/latex": [
       "$\\displaystyle M{\\left(2.0 \\right)} = 100.0 e^{2.0 k}$"
      ],
      "text/plain": [
       "Eq(M(2.0), 100.0*exp(2.0*k))"
      ]
     },
     "execution_count": 146,
     "metadata": {},
     "output_type": "execute_result"
    }
   ],
   "source": [
    "solution = solution.subs(t, tiempo)\n",
    "solution = solution.subs(C1, masa_tiempoCero)\n",
    "solution"
   ]
  },
  {
   "cell_type": "code",
   "execution_count": 147,
   "metadata": {},
   "outputs": [
    {
     "data": {
      "text/latex": [
       "$\\displaystyle 95.0 = 100.0 e^{2.0 k}$"
      ],
      "text/plain": [
       "Eq(95.0, 100.0*exp(2.0*k))"
      ]
     },
     "execution_count": 147,
     "metadata": {},
     "output_type": "execute_result"
    }
   ],
   "source": [
    "solution = solution.subs(M(2.0),masa_tiempoT)\n",
    "solution"
   ]
  },
  {
   "cell_type": "markdown",
   "metadata": {},
   "source": [
    "Aplicamos la función logaritmo a nuestra ecuación"
   ]
  },
  {
   "cell_type": "code",
   "execution_count": 156,
   "metadata": {},
   "outputs": [
    {
     "data": {
      "text/latex": [
       "$\\displaystyle \\log{\\left(e^{2 k} \\right)} = -0.0512932943875506$"
      ],
      "text/plain": [
       "Eq(log(exp(2*k)), -0.0512932943875506)"
      ]
     },
     "execution_count": 156,
     "metadata": {},
     "output_type": "execute_result"
    }
   ],
   "source": [
    "leftSide = sp.log( sp.exp(2*k),sp.exp(1))\n",
    "rightSide = sp.log(95/100,sp.exp(1))\n",
    "solution = sp.Eq(leftSide,rightSide)\n",
    "solution"
   ]
  },
  {
   "cell_type": "markdown",
   "metadata": {},
   "source": [
    "leftSide = 2*k\n",
    "solution = sp.Eq(leftSide,rightSide)\n",
    "solution"
   ]
  },
  {
   "cell_type": "code",
   "execution_count": 162,
   "metadata": {},
   "outputs": [
    {
     "data": {
      "text/latex": [
       "$\\displaystyle k = -0.0256466471937753$"
      ],
      "text/plain": [
       "Eq(k, -0.0256466471937753)"
      ]
     },
     "execution_count": 162,
     "metadata": {},
     "output_type": "execute_result"
    }
   ],
   "source": [
    "solution = sp.Eq(leftSide/2,rightSide/2)\n",
    "solution"
   ]
  },
  {
   "cell_type": "markdown",
   "metadata": {},
   "source": [
    "Reemplazamos el valor de k en la Ecuacion diferencial Original"
   ]
  },
  {
   "cell_type": "code",
   "execution_count": 165,
   "metadata": {},
   "outputs": [
    {
     "data": {
      "text/latex": [
       "$\\displaystyle M{\\left(t \\right)} = C_{1} e^{- 0.0256466471937753 t}$"
      ],
      "text/plain": [
       "Eq(M(t), C1*exp(-0.0256466471937753*t))"
      ]
     },
     "execution_count": 165,
     "metadata": {},
     "output_type": "execute_result"
    }
   ],
   "source": [
    "leftPart = M(t).diff(t)\n",
    "rightPart = k*(M(t))\n",
    "solution = sp.dsolve(leftPart-rightPart)\n",
    "solution = solution.subs(k,rightSide/2)\n",
    "solution"
   ]
  },
  {
   "cell_type": "markdown",
   "metadata": {},
   "source": [
    "## Graficamos la función solución"
   ]
  },
  {
   "cell_type": "code",
   "execution_count": 189,
   "metadata": {},
   "outputs": [
    {
     "data": {
      "image/png": "[encoded data removed]",
      "text/plain": [
       "<Figure size 432x288 with 1 Axes>"
      ]
     },
     "metadata": {
      "needs_background": "light"
     },
     "output_type": "display_data"
    }
   ],
   "source": [
    "t = linspace(-200,200,1000)          #arreglo de 1000 numeros reales entre -200 y 200\n",
    "\n",
    "#exponencial y logaritmo\n",
    "figure(1)\n",
    "\n",
    "y =  exp( -0.0256466471937753*𝑡)           #funcion exponencial\n",
    "plot(t,y)                         \n",
    "\n",
    "grid('on')"
   ]
  }
 ],
 "metadata": {
  "kernelspec": {
   "display_name": "Python 3",
   "language": "python",
   "name": "python3"
  },
  "language_info": {
   "codemirror_mode": {
    "name": "ipython",
    "version": 3
   },
   "file_extension": ".py",
   "mimetype": "text/x-python",
   "name": "python",
   "nbconvert_exporter": "python",
   "pygments_lexer": "ipython3",
   "version": "3.8.5"
  }
 },
 "nbformat": 4,
 "nbformat_minor": 4
}
